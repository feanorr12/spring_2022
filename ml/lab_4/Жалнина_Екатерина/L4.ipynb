{
 "cells": [
  {
   "cell_type": "code",
   "execution_count": 1,
   "id": "2f279609",
   "metadata": {},
   "outputs": [
    {
     "data": {
      "text/html": [
       "<div>\n",
       "<style scoped>\n",
       "    .dataframe tbody tr th:only-of-type {\n",
       "        vertical-align: middle;\n",
       "    }\n",
       "\n",
       "    .dataframe tbody tr th {\n",
       "        vertical-align: top;\n",
       "    }\n",
       "\n",
       "    .dataframe thead th {\n",
       "        text-align: right;\n",
       "    }\n",
       "</style>\n",
       "<table border=\"1\" class=\"dataframe\">\n",
       "  <thead>\n",
       "    <tr style=\"text-align: right;\">\n",
       "      <th></th>\n",
       "      <th>Date</th>\n",
       "      <th>Time</th>\n",
       "      <th>CO(GT)</th>\n",
       "      <th>PT08.S1(CO)</th>\n",
       "      <th>NMHC(GT)</th>\n",
       "      <th>C6H6(GT)</th>\n",
       "      <th>PT08.S2(NMHC)</th>\n",
       "      <th>NOx(GT)</th>\n",
       "      <th>PT08.S3(NOx)</th>\n",
       "      <th>NO2(GT)</th>\n",
       "      <th>PT08.S4(NO2)</th>\n",
       "      <th>PT08.S5(O3)</th>\n",
       "      <th>T</th>\n",
       "      <th>RH</th>\n",
       "      <th>AH</th>\n",
       "    </tr>\n",
       "  </thead>\n",
       "  <tbody>\n",
       "    <tr>\n",
       "      <th>0</th>\n",
       "      <td>10/03/2004</td>\n",
       "      <td>180000.0</td>\n",
       "      <td>2.6</td>\n",
       "      <td>1360.0</td>\n",
       "      <td>150.0</td>\n",
       "      <td>11.9</td>\n",
       "      <td>1046.0</td>\n",
       "      <td>166.0</td>\n",
       "      <td>1056.0</td>\n",
       "      <td>113.0</td>\n",
       "      <td>1692.0</td>\n",
       "      <td>1268.0</td>\n",
       "      <td>13.6</td>\n",
       "      <td>48.9</td>\n",
       "      <td>0.7578</td>\n",
       "    </tr>\n",
       "    <tr>\n",
       "      <th>1</th>\n",
       "      <td>10/03/2004</td>\n",
       "      <td>190000.0</td>\n",
       "      <td>2.0</td>\n",
       "      <td>1292.0</td>\n",
       "      <td>112.0</td>\n",
       "      <td>9.4</td>\n",
       "      <td>955.0</td>\n",
       "      <td>103.0</td>\n",
       "      <td>1174.0</td>\n",
       "      <td>92.0</td>\n",
       "      <td>1559.0</td>\n",
       "      <td>972.0</td>\n",
       "      <td>13.3</td>\n",
       "      <td>47.7</td>\n",
       "      <td>0.7255</td>\n",
       "    </tr>\n",
       "    <tr>\n",
       "      <th>2</th>\n",
       "      <td>10/03/2004</td>\n",
       "      <td>200000.0</td>\n",
       "      <td>2.2</td>\n",
       "      <td>1402.0</td>\n",
       "      <td>88.0</td>\n",
       "      <td>9.0</td>\n",
       "      <td>939.0</td>\n",
       "      <td>131.0</td>\n",
       "      <td>1140.0</td>\n",
       "      <td>114.0</td>\n",
       "      <td>1555.0</td>\n",
       "      <td>1074.0</td>\n",
       "      <td>11.9</td>\n",
       "      <td>54.0</td>\n",
       "      <td>0.7502</td>\n",
       "    </tr>\n",
       "    <tr>\n",
       "      <th>3</th>\n",
       "      <td>10/03/2004</td>\n",
       "      <td>210000.0</td>\n",
       "      <td>2.2</td>\n",
       "      <td>1376.0</td>\n",
       "      <td>80.0</td>\n",
       "      <td>9.2</td>\n",
       "      <td>948.0</td>\n",
       "      <td>172.0</td>\n",
       "      <td>1092.0</td>\n",
       "      <td>122.0</td>\n",
       "      <td>1584.0</td>\n",
       "      <td>1203.0</td>\n",
       "      <td>11.0</td>\n",
       "      <td>60.0</td>\n",
       "      <td>0.7867</td>\n",
       "    </tr>\n",
       "    <tr>\n",
       "      <th>4</th>\n",
       "      <td>10/03/2004</td>\n",
       "      <td>220000.0</td>\n",
       "      <td>1.6</td>\n",
       "      <td>1272.0</td>\n",
       "      <td>51.0</td>\n",
       "      <td>6.5</td>\n",
       "      <td>836.0</td>\n",
       "      <td>131.0</td>\n",
       "      <td>1205.0</td>\n",
       "      <td>116.0</td>\n",
       "      <td>1490.0</td>\n",
       "      <td>1110.0</td>\n",
       "      <td>11.2</td>\n",
       "      <td>59.6</td>\n",
       "      <td>0.7888</td>\n",
       "    </tr>\n",
       "  </tbody>\n",
       "</table>\n",
       "</div>"
      ],
      "text/plain": [
       "         Date      Time  CO(GT)  PT08.S1(CO)  NMHC(GT)  C6H6(GT)  \\\n",
       "0  10/03/2004  180000.0     2.6       1360.0     150.0      11.9   \n",
       "1  10/03/2004  190000.0     2.0       1292.0     112.0       9.4   \n",
       "2  10/03/2004  200000.0     2.2       1402.0      88.0       9.0   \n",
       "3  10/03/2004  210000.0     2.2       1376.0      80.0       9.2   \n",
       "4  10/03/2004  220000.0     1.6       1272.0      51.0       6.5   \n",
       "\n",
       "   PT08.S2(NMHC)  NOx(GT)  PT08.S3(NOx)  NO2(GT)  PT08.S4(NO2)  PT08.S5(O3)  \\\n",
       "0         1046.0    166.0        1056.0    113.0        1692.0       1268.0   \n",
       "1          955.0    103.0        1174.0     92.0        1559.0        972.0   \n",
       "2          939.0    131.0        1140.0    114.0        1555.0       1074.0   \n",
       "3          948.0    172.0        1092.0    122.0        1584.0       1203.0   \n",
       "4          836.0    131.0        1205.0    116.0        1490.0       1110.0   \n",
       "\n",
       "      T    RH      AH  \n",
       "0  13.6  48.9  0.7578  \n",
       "1  13.3  47.7  0.7255  \n",
       "2  11.9  54.0  0.7502  \n",
       "3  11.0  60.0  0.7867  \n",
       "4  11.2  59.6  0.7888  "
      ]
     },
     "execution_count": 1,
     "metadata": {},
     "output_type": "execute_result"
    }
   ],
   "source": [
    "import pandas as pd\n",
    "pass_data = pd.read_csv('AirQualityUCI.csv',  thousands='.', decimal=',', sep=';')\n",
    "pass_data.head()"
   ]
  },
  {
   "cell_type": "markdown",
   "id": "3b2f0050",
   "metadata": {},
   "source": [
    "Набор данных оценка качества воздуха содержит следующие атрибуты:"
   ]
  },
  {
   "cell_type": "markdown",
   "id": "1bf779f1",
   "metadata": {},
   "source": [
    "- Дата (ДД/ММ/ГГГГ)"
   ]
  },
  {
   "cell_type": "markdown",
   "id": "a1cbd688",
   "metadata": {},
   "source": [
    "- Время (ЧЧ.ММ.СС)"
   ]
  },
  {
   "cell_type": "markdown",
   "id": "3bd1d78d",
   "metadata": {},
   "source": [
    "- (CO)Истинная почасовая усредненная концентрация углекислого газа в мг(м^3)"
   ]
  },
  {
   "cell_type": "markdown",
   "id": "0bc04fde",
   "metadata": {},
   "source": [
    "- PT08.S21 - Усредненый по часам отклик датчика"
   ]
  },
  {
   "cell_type": "markdown",
   "id": "9c0a0fb2",
   "metadata": {},
   "source": [
    "- NMHC - Истинная почасовая усредненная общая концентрация неметановых углеводородов в мкг/м^3"
   ]
  },
  {
   "cell_type": "markdown",
   "id": "375c3b8d",
   "metadata": {},
   "source": [
    "- Истинная почасовая усредненная концентрация бензола в мкг/м^3"
   ]
  },
  {
   "cell_type": "markdown",
   "id": "c674822e",
   "metadata": {},
   "source": [
    "- PT08.S2 -  Усредненный по часам отклик датчика"
   ]
  },
  {
   "cell_type": "markdown",
   "id": "485e8e74",
   "metadata": {},
   "source": [
    "- Истинная почасовая усредненная концентрация оксида Азота 2 в мкг/м^3"
   ]
  },
  {
   "cell_type": "markdown",
   "id": "2bf8c0a9",
   "metadata": {},
   "source": [
    "- PT08.S3 - Усредненный по часам отклик датчика"
   ]
  },
  {
   "cell_type": "markdown",
   "id": "a33d5d86",
   "metadata": {},
   "source": [
    "- Истинная почасовая усредненная концентрация оксида Азота 4  в мкг/м^3"
   ]
  },
  {
   "cell_type": "markdown",
   "id": "7f74b184",
   "metadata": {},
   "source": [
    "- PT08.S4 - Усредненный по часам отклик датчика"
   ]
  },
  {
   "cell_type": "markdown",
   "id": "46ae76da",
   "metadata": {},
   "source": [
    "- PT08.S5 - Усредненный по часам отклик датчика "
   ]
  },
  {
   "cell_type": "markdown",
   "id": "1412a8dc",
   "metadata": {},
   "source": [
    "- Температура в °C"
   ]
  },
  {
   "cell_type": "code",
   "execution_count": 53,
   "id": "a0114933",
   "metadata": {},
   "outputs": [
    {
     "name": "stdout",
     "output_type": "stream",
     "text": [
      "(9357, 14)\n",
      "(9346, 14)\n"
     ]
    }
   ],
   "source": [
    "print(pass_data.shape)\n",
    "pass_data.drop_duplicates(inplace=True)\n",
    "print(pass_data.shape)"
   ]
  },
  {
   "cell_type": "code",
   "execution_count": 54,
   "id": "60e8c8d6",
   "metadata": {},
   "outputs": [
    {
     "name": "stdout",
     "output_type": "stream",
     "text": [
      "numerical:  ['CO(GT)', 'PT08.S1(CO)', 'NMHC(GT)', 'C6H6(GT)', 'PT08.S2(NMHC)', 'NOx(GT)', 'PT08.S3(NOx)', 'NO2(GT)', 'PT08.S4(NO2)', 'PT08.S5(O3)', 'T', 'RH', 'AH']\n",
      "categorial:  []\n"
     ]
    },
    {
     "data": {
      "text/plain": [
       "<AxesSubplot:>"
      ]
     },
     "execution_count": 54,
     "metadata": {},
     "output_type": "execute_result"
    },
    {
     "data": {
      "image/png": "[encoded data removed]",
      "text/plain": [
       "<Figure size 1296x720 with 1 Axes>"
      ]
     },
     "metadata": {
      "needs_background": "light"
     },
     "output_type": "display_data"
    }
   ],
   "source": [
    "import seaborn as sns\n",
    "\n",
    "import matplotlib.pyplot as plt\n",
    "\n",
    "numerical_columns = [i for i in pass_data.columns[1:16] if pass_data[i].dtype.name != 'object']\n",
    "\n",
    "categorial_columns = [i for i in pass_data.columns[1:16] if pass_data[i].dtype.name == 'object']\n",
    "\n",
    "print('numerical: ', numerical_columns)\n",
    "\n",
    "print('categorial: ', categorial_columns)\n",
    "\n",
    "fig = plt.figure(figsize=(18, 10))\n",
    "\n",
    "plt.xticks(rotation='vertical')\n",
    "\n",
    "#total_num = pass_data.drop(columns = 'Date', axis = 1)\n",
    "\n",
    "sns.boxplot(data = total_num)"
   ]
  },
  {
   "cell_type": "code",
   "execution_count": 55,
   "id": "18a96496",
   "metadata": {},
   "outputs": [],
   "source": [
    "from sklearn import preprocessing\n",
    "\n",
    "label=preprocessing.LabelEncoder()\n",
    "\n",
    "total_num=pass_data.apply(label.fit_transform)"
   ]
  },
  {
   "cell_type": "code",
   "execution_count": 56,
   "id": "e8894d98",
   "metadata": {},
   "outputs": [
    {
     "data": {
      "text/plain": [
       "<AxesSubplot:>"
      ]
     },
     "execution_count": 56,
     "metadata": {},
     "output_type": "execute_result"
    },
    {
     "data": {
      "image/png": "[encoded data removed]",
      "text/plain": [
       "<Figure size 1296x720 with 1 Axes>"
      ]
     },
     "metadata": {
      "needs_background": "light"
     },
     "output_type": "display_data"
    }
   ],
   "source": [
    "from sklearn.preprocessing import MinMaxScaler\n",
    "\n",
    "scaler = MinMaxScaler()\n",
    "\n",
    "columns = numerical_columns\n",
    "\n",
    "total_num[columns] = scaler.fit_transform(total_num[columns])# обучение и преобразвоание данных\n",
    "\n",
    "fig = plt.figure(figsize=(18, 10))\n",
    "\n",
    "plt.xticks(rotation='vertical')\n",
    "\n",
    "sns.boxplot(data = total_num)"
   ]
  },
  {
   "cell_type": "code",
   "execution_count": 57,
   "id": "c2fea216",
   "metadata": {},
   "outputs": [
    {
     "data": {
      "text/html": [
       "<div>\n",
       "<style scoped>\n",
       "    .dataframe tbody tr th:only-of-type {\n",
       "        vertical-align: middle;\n",
       "    }\n",
       "\n",
       "    .dataframe tbody tr th {\n",
       "        vertical-align: top;\n",
       "    }\n",
       "\n",
       "    .dataframe thead th {\n",
       "        text-align: right;\n",
       "    }\n",
       "</style>\n",
       "<table border=\"1\" class=\"dataframe\">\n",
       "  <thead>\n",
       "    <tr style=\"text-align: right;\">\n",
       "      <th></th>\n",
       "      <th>Time</th>\n",
       "      <th>CO(GT)</th>\n",
       "      <th>PT08.S1(CO)</th>\n",
       "      <th>NMHC(GT)</th>\n",
       "      <th>C6H6(GT)</th>\n",
       "      <th>PT08.S2(NMHC)</th>\n",
       "      <th>NOx(GT)</th>\n",
       "      <th>PT08.S3(NOx)</th>\n",
       "      <th>NO2(GT)</th>\n",
       "      <th>PT08.S4(NO2)</th>\n",
       "      <th>PT08.S5(O3)</th>\n",
       "      <th>T</th>\n",
       "      <th>RH</th>\n",
       "      <th>AH</th>\n",
       "    </tr>\n",
       "  </thead>\n",
       "  <tbody>\n",
       "    <tr>\n",
       "      <th>Time</th>\n",
       "      <td>1.000000</td>\n",
       "      <td>0.074442</td>\n",
       "      <td>0.194823</td>\n",
       "      <td>0.049124</td>\n",
       "      <td>0.041851</td>\n",
       "      <td>0.281065</td>\n",
       "      <td>0.224189</td>\n",
       "      <td>-0.260946</td>\n",
       "      <td>0.218175</td>\n",
       "      <td>0.145706</td>\n",
       "      <td>0.196385</td>\n",
       "      <td>0.022727</td>\n",
       "      <td>-0.115024</td>\n",
       "      <td>-0.018996</td>\n",
       "    </tr>\n",
       "    <tr>\n",
       "      <th>CO(GT)</th>\n",
       "      <td>0.074442</td>\n",
       "      <td>1.000000</td>\n",
       "      <td>0.033306</td>\n",
       "      <td>0.128017</td>\n",
       "      <td>-0.042998</td>\n",
       "      <td>0.022970</td>\n",
       "      <td>0.525169</td>\n",
       "      <td>-0.097680</td>\n",
       "      <td>0.669850</td>\n",
       "      <td>-0.082104</td>\n",
       "      <td>0.075035</td>\n",
       "      <td>-0.081127</td>\n",
       "      <td>-0.059601</td>\n",
       "      <td>-0.057959</td>\n",
       "    </tr>\n",
       "    <tr>\n",
       "      <th>PT08.S1(CO)</th>\n",
       "      <td>0.194823</td>\n",
       "      <td>0.033306</td>\n",
       "      <td>1.000000</td>\n",
       "      <td>0.170153</td>\n",
       "      <td>0.850036</td>\n",
       "      <td>0.932331</td>\n",
       "      <td>0.274263</td>\n",
       "      <td>0.074291</td>\n",
       "      <td>0.146561</td>\n",
       "      <td>0.842835</td>\n",
       "      <td>0.891981</td>\n",
       "      <td>0.749948</td>\n",
       "      <td>0.740315</td>\n",
       "      <td>0.760232</td>\n",
       "    </tr>\n",
       "    <tr>\n",
       "      <th>NMHC(GT)</th>\n",
       "      <td>0.049124</td>\n",
       "      <td>0.128017</td>\n",
       "      <td>0.170153</td>\n",
       "      <td>1.000000</td>\n",
       "      <td>0.036154</td>\n",
       "      <td>0.109669</td>\n",
       "      <td>-0.004927</td>\n",
       "      <td>0.048029</td>\n",
       "      <td>0.102863</td>\n",
       "      <td>0.162629</td>\n",
       "      <td>0.100697</td>\n",
       "      <td>-0.001706</td>\n",
       "      <td>0.006761</td>\n",
       "      <td>0.010953</td>\n",
       "    </tr>\n",
       "    <tr>\n",
       "      <th>C6H6(GT)</th>\n",
       "      <td>0.041851</td>\n",
       "      <td>-0.042998</td>\n",
       "      <td>0.850036</td>\n",
       "      <td>0.036154</td>\n",
       "      <td>1.000000</td>\n",
       "      <td>0.764403</td>\n",
       "      <td>-0.009542</td>\n",
       "      <td>0.504365</td>\n",
       "      <td>-0.023051</td>\n",
       "      <td>0.771202</td>\n",
       "      <td>0.638020</td>\n",
       "      <td>0.970554</td>\n",
       "      <td>0.923018</td>\n",
       "      <td>0.984106</td>\n",
       "    </tr>\n",
       "    <tr>\n",
       "      <th>PT08.S2(NMHC)</th>\n",
       "      <td>0.281065</td>\n",
       "      <td>0.022970</td>\n",
       "      <td>0.932331</td>\n",
       "      <td>0.109669</td>\n",
       "      <td>0.764403</td>\n",
       "      <td>1.000000</td>\n",
       "      <td>0.328258</td>\n",
       "      <td>-0.086302</td>\n",
       "      <td>0.170274</td>\n",
       "      <td>0.873178</td>\n",
       "      <td>0.909238</td>\n",
       "      <td>0.663980</td>\n",
       "      <td>0.579155</td>\n",
       "      <td>0.641067</td>\n",
       "    </tr>\n",
       "    <tr>\n",
       "      <th>NOx(GT)</th>\n",
       "      <td>0.224189</td>\n",
       "      <td>0.525169</td>\n",
       "      <td>0.274263</td>\n",
       "      <td>-0.004927</td>\n",
       "      <td>-0.009542</td>\n",
       "      <td>0.328258</td>\n",
       "      <td>1.000000</td>\n",
       "      <td>-0.444330</td>\n",
       "      <td>0.816685</td>\n",
       "      <td>0.030047</td>\n",
       "      <td>0.459901</td>\n",
       "      <td>-0.148894</td>\n",
       "      <td>-0.061764</td>\n",
       "      <td>-0.105867</td>\n",
       "    </tr>\n",
       "    <tr>\n",
       "      <th>PT08.S3(NOx)</th>\n",
       "      <td>-0.260946</td>\n",
       "      <td>-0.097680</td>\n",
       "      <td>0.074291</td>\n",
       "      <td>0.048029</td>\n",
       "      <td>0.504365</td>\n",
       "      <td>-0.086302</td>\n",
       "      <td>-0.444330</td>\n",
       "      <td>1.000000</td>\n",
       "      <td>-0.265771</td>\n",
       "      <td>0.111735</td>\n",
       "      <td>-0.220315</td>\n",
       "      <td>0.581812</td>\n",
       "      <td>0.567040</td>\n",
       "      <td>0.615982</td>\n",
       "    </tr>\n",
       "    <tr>\n",
       "      <th>NO2(GT)</th>\n",
       "      <td>0.218175</td>\n",
       "      <td>0.669850</td>\n",
       "      <td>0.146561</td>\n",
       "      <td>0.102863</td>\n",
       "      <td>-0.023051</td>\n",
       "      <td>0.170274</td>\n",
       "      <td>0.816685</td>\n",
       "      <td>-0.265771</td>\n",
       "      <td>1.000000</td>\n",
       "      <td>-0.030611</td>\n",
       "      <td>0.248858</td>\n",
       "      <td>-0.097321</td>\n",
       "      <td>-0.093941</td>\n",
       "      <td>-0.073550</td>\n",
       "    </tr>\n",
       "    <tr>\n",
       "      <th>PT08.S4(NO2)</th>\n",
       "      <td>0.145706</td>\n",
       "      <td>-0.082104</td>\n",
       "      <td>0.842835</td>\n",
       "      <td>0.162629</td>\n",
       "      <td>0.771202</td>\n",
       "      <td>0.873178</td>\n",
       "      <td>0.030047</td>\n",
       "      <td>0.111735</td>\n",
       "      <td>-0.030611</td>\n",
       "      <td>1.000000</td>\n",
       "      <td>0.721114</td>\n",
       "      <td>0.751163</td>\n",
       "      <td>0.634467</td>\n",
       "      <td>0.686678</td>\n",
       "    </tr>\n",
       "    <tr>\n",
       "      <th>PT08.S5(O3)</th>\n",
       "      <td>0.196385</td>\n",
       "      <td>0.075035</td>\n",
       "      <td>0.891981</td>\n",
       "      <td>0.100697</td>\n",
       "      <td>0.638020</td>\n",
       "      <td>0.909238</td>\n",
       "      <td>0.459901</td>\n",
       "      <td>-0.220315</td>\n",
       "      <td>0.248858</td>\n",
       "      <td>0.721114</td>\n",
       "      <td>1.000000</td>\n",
       "      <td>0.497874</td>\n",
       "      <td>0.519530</td>\n",
       "      <td>0.513924</td>\n",
       "    </tr>\n",
       "    <tr>\n",
       "      <th>T</th>\n",
       "      <td>0.022727</td>\n",
       "      <td>-0.081127</td>\n",
       "      <td>0.749948</td>\n",
       "      <td>-0.001706</td>\n",
       "      <td>0.970554</td>\n",
       "      <td>0.663980</td>\n",
       "      <td>-0.148894</td>\n",
       "      <td>0.581812</td>\n",
       "      <td>-0.097321</td>\n",
       "      <td>0.751163</td>\n",
       "      <td>0.497874</td>\n",
       "      <td>1.000000</td>\n",
       "      <td>0.882795</td>\n",
       "      <td>0.980454</td>\n",
       "    </tr>\n",
       "    <tr>\n",
       "      <th>RH</th>\n",
       "      <td>-0.115024</td>\n",
       "      <td>-0.059601</td>\n",
       "      <td>0.740315</td>\n",
       "      <td>0.006761</td>\n",
       "      <td>0.923018</td>\n",
       "      <td>0.579155</td>\n",
       "      <td>-0.061764</td>\n",
       "      <td>0.567040</td>\n",
       "      <td>-0.093941</td>\n",
       "      <td>0.634467</td>\n",
       "      <td>0.519530</td>\n",
       "      <td>0.882795</td>\n",
       "      <td>1.000000</td>\n",
       "      <td>0.942470</td>\n",
       "    </tr>\n",
       "    <tr>\n",
       "      <th>AH</th>\n",
       "      <td>-0.018996</td>\n",
       "      <td>-0.057959</td>\n",
       "      <td>0.760232</td>\n",
       "      <td>0.010953</td>\n",
       "      <td>0.984106</td>\n",
       "      <td>0.641067</td>\n",
       "      <td>-0.105867</td>\n",
       "      <td>0.615982</td>\n",
       "      <td>-0.073550</td>\n",
       "      <td>0.686678</td>\n",
       "      <td>0.513924</td>\n",
       "      <td>0.980454</td>\n",
       "      <td>0.942470</td>\n",
       "      <td>1.000000</td>\n",
       "    </tr>\n",
       "  </tbody>\n",
       "</table>\n",
       "</div>"
      ],
      "text/plain": [
       "                   Time    CO(GT)  PT08.S1(CO)  NMHC(GT)  C6H6(GT)  \\\n",
       "Time           1.000000  0.074442     0.194823  0.049124  0.041851   \n",
       "CO(GT)         0.074442  1.000000     0.033306  0.128017 -0.042998   \n",
       "PT08.S1(CO)    0.194823  0.033306     1.000000  0.170153  0.850036   \n",
       "NMHC(GT)       0.049124  0.128017     0.170153  1.000000  0.036154   \n",
       "C6H6(GT)       0.041851 -0.042998     0.850036  0.036154  1.000000   \n",
       "PT08.S2(NMHC)  0.281065  0.022970     0.932331  0.109669  0.764403   \n",
       "NOx(GT)        0.224189  0.525169     0.274263 -0.004927 -0.009542   \n",
       "PT08.S3(NOx)  -0.260946 -0.097680     0.074291  0.048029  0.504365   \n",
       "NO2(GT)        0.218175  0.669850     0.146561  0.102863 -0.023051   \n",
       "PT08.S4(NO2)   0.145706 -0.082104     0.842835  0.162629  0.771202   \n",
       "PT08.S5(O3)    0.196385  0.075035     0.891981  0.100697  0.638020   \n",
       "T              0.022727 -0.081127     0.749948 -0.001706  0.970554   \n",
       "RH            -0.115024 -0.059601     0.740315  0.006761  0.923018   \n",
       "AH            -0.018996 -0.057959     0.760232  0.010953  0.984106   \n",
       "\n",
       "               PT08.S2(NMHC)   NOx(GT)  PT08.S3(NOx)   NO2(GT)  PT08.S4(NO2)  \\\n",
       "Time                0.281065  0.224189     -0.260946  0.218175      0.145706   \n",
       "CO(GT)              0.022970  0.525169     -0.097680  0.669850     -0.082104   \n",
       "PT08.S1(CO)         0.932331  0.274263      0.074291  0.146561      0.842835   \n",
       "NMHC(GT)            0.109669 -0.004927      0.048029  0.102863      0.162629   \n",
       "C6H6(GT)            0.764403 -0.009542      0.504365 -0.023051      0.771202   \n",
       "PT08.S2(NMHC)       1.000000  0.328258     -0.086302  0.170274      0.873178   \n",
       "NOx(GT)             0.328258  1.000000     -0.444330  0.816685      0.030047   \n",
       "PT08.S3(NOx)       -0.086302 -0.444330      1.000000 -0.265771      0.111735   \n",
       "NO2(GT)             0.170274  0.816685     -0.265771  1.000000     -0.030611   \n",
       "PT08.S4(NO2)        0.873178  0.030047      0.111735 -0.030611      1.000000   \n",
       "PT08.S5(O3)         0.909238  0.459901     -0.220315  0.248858      0.721114   \n",
       "T                   0.663980 -0.148894      0.581812 -0.097321      0.751163   \n",
       "RH                  0.579155 -0.061764      0.567040 -0.093941      0.634467   \n",
       "AH                  0.641067 -0.105867      0.615982 -0.073550      0.686678   \n",
       "\n",
       "               PT08.S5(O3)         T        RH        AH  \n",
       "Time              0.196385  0.022727 -0.115024 -0.018996  \n",
       "CO(GT)            0.075035 -0.081127 -0.059601 -0.057959  \n",
       "PT08.S1(CO)       0.891981  0.749948  0.740315  0.760232  \n",
       "NMHC(GT)          0.100697 -0.001706  0.006761  0.010953  \n",
       "C6H6(GT)          0.638020  0.970554  0.923018  0.984106  \n",
       "PT08.S2(NMHC)     0.909238  0.663980  0.579155  0.641067  \n",
       "NOx(GT)           0.459901 -0.148894 -0.061764 -0.105867  \n",
       "PT08.S3(NOx)     -0.220315  0.581812  0.567040  0.615982  \n",
       "NO2(GT)           0.248858 -0.097321 -0.093941 -0.073550  \n",
       "PT08.S4(NO2)      0.721114  0.751163  0.634467  0.686678  \n",
       "PT08.S5(O3)       1.000000  0.497874  0.519530  0.513924  \n",
       "T                 0.497874  1.000000  0.882795  0.980454  \n",
       "RH                0.519530  0.882795  1.000000  0.942470  \n",
       "AH                0.513924  0.980454  0.942470  1.000000  "
      ]
     },
     "execution_count": 57,
     "metadata": {},
     "output_type": "execute_result"
    },
    {
     "data": {
      "image/png": "[encoded data removed]",
      "text/plain": [
       "<Figure size 432x288 with 2 Axes>"
      ]
     },
     "metadata": {
      "needs_background": "light"
     },
     "output_type": "display_data"
    }
   ],
   "source": [
    "sns.heatmap(pass_data.corr())\n",
    "\n",
    "pass_data.corr()"
   ]
  },
  {
   "cell_type": "code",
   "execution_count": 58,
   "id": "9c8115d0",
   "metadata": {},
   "outputs": [],
   "source": [
    "pass_data.count()\n",
    "\n",
    "pass_data.shape\n",
    "\n",
    "pass_data.dropna(axis=0,inplace=True)"
   ]
  },
  {
   "cell_type": "code",
   "execution_count": 59,
   "id": "94a41846",
   "metadata": {},
   "outputs": [
    {
     "name": "stdout",
     "output_type": "stream",
     "text": [
      "[]\n"
     ]
    }
   ],
   "source": [
    "categorical_attributes = [column for column in pass_data.columns if pass_data[column].dtype.name == 'object']\n",
    "\n",
    "print(categorical_attributes)\n",
    "\n",
    "pass_data = pass_data.drop(categorical_attributes, axis=1)"
   ]
  },
  {
   "cell_type": "code",
   "execution_count": 60,
   "id": "3daf24bd",
   "metadata": {},
   "outputs": [],
   "source": [
    "#линейная регрессия без использования регуляризаторов\n",
    "\n",
    "from sklearn import linear_model\n",
    "\n",
    "reg = linear_model.LinearRegression()\n",
    "\n",
    "x = pass_data.drop(['T'], axis=1)\n",
    "\n",
    "y = pass_data['T']"
   ]
  },
  {
   "cell_type": "code",
   "execution_count": 61,
   "id": "67b63cf7",
   "metadata": {},
   "outputs": [],
   "source": [
    "from sklearn.model_selection import train_test_split\n",
    "\n",
    "x_train, x_test, y_train, y_test = train_test_split(x, y) \n",
    "#разделение данных на случайные масивы с которыми мы рабртаем"
   ]
  },
  {
   "cell_type": "code",
   "execution_count": 62,
   "id": "f4e2dd88",
   "metadata": {},
   "outputs": [
    {
     "data": {
      "text/html": [
       "<style>#sk-container-id-5 {color: black;background-color: white;}#sk-container-id-5 pre{padding: 0;}#sk-container-id-5 div.sk-toggleable {background-color: white;}#sk-container-id-5 label.sk-toggleable__label {cursor: pointer;display: block;width: 100%;margin-bottom: 0;padding: 0.3em;box-sizing: border-box;text-align: center;}#sk-container-id-5 label.sk-toggleable__label-arrow:before {content: \"▸\";float: left;margin-right: 0.25em;color: #696969;}#sk-container-id-5 label.sk-toggleable__label-arrow:hover:before {color: black;}#sk-container-id-5 div.sk-estimator:hover label.sk-toggleable__label-arrow:before {color: black;}#sk-container-id-5 div.sk-toggleable__content {max-height: 0;max-width: 0;overflow: hidden;text-align: left;background-color: #f0f8ff;}#sk-container-id-5 div.sk-toggleable__content pre {margin: 0.2em;color: black;border-radius: 0.25em;background-color: #f0f8ff;}#sk-container-id-5 input.sk-toggleable__control:checked~div.sk-toggleable__content {max-height: 200px;max-width: 100%;overflow: auto;}#sk-container-id-5 input.sk-toggleable__control:checked~label.sk-toggleable__label-arrow:before {content: \"▾\";}#sk-container-id-5 div.sk-estimator input.sk-toggleable__control:checked~label.sk-toggleable__label {background-color: #d4ebff;}#sk-container-id-5 div.sk-label input.sk-toggleable__control:checked~label.sk-toggleable__label {background-color: #d4ebff;}#sk-container-id-5 input.sk-hidden--visually {border: 0;clip: rect(1px 1px 1px 1px);clip: rect(1px, 1px, 1px, 1px);height: 1px;margin: -1px;overflow: hidden;padding: 0;position: absolute;width: 1px;}#sk-container-id-5 div.sk-estimator {font-family: monospace;background-color: #f0f8ff;border: 1px dotted black;border-radius: 0.25em;box-sizing: border-box;margin-bottom: 0.5em;}#sk-container-id-5 div.sk-estimator:hover {background-color: #d4ebff;}#sk-container-id-5 div.sk-parallel-item::after {content: \"\";width: 100%;border-bottom: 1px solid gray;flex-grow: 1;}#sk-container-id-5 div.sk-label:hover label.sk-toggleable__label {background-color: #d4ebff;}#sk-container-id-5 div.sk-serial::before {content: \"\";position: absolute;border-left: 1px solid gray;box-sizing: border-box;top: 0;bottom: 0;left: 50%;z-index: 0;}#sk-container-id-5 div.sk-serial {display: flex;flex-direction: column;align-items: center;background-color: white;padding-right: 0.2em;padding-left: 0.2em;position: relative;}#sk-container-id-5 div.sk-item {position: relative;z-index: 1;}#sk-container-id-5 div.sk-parallel {display: flex;align-items: stretch;justify-content: center;background-color: white;position: relative;}#sk-container-id-5 div.sk-item::before, #sk-container-id-5 div.sk-parallel-item::before {content: \"\";position: absolute;border-left: 1px solid gray;box-sizing: border-box;top: 0;bottom: 0;left: 50%;z-index: -1;}#sk-container-id-5 div.sk-parallel-item {display: flex;flex-direction: column;z-index: 1;position: relative;background-color: white;}#sk-container-id-5 div.sk-parallel-item:first-child::after {align-self: flex-end;width: 50%;}#sk-container-id-5 div.sk-parallel-item:last-child::after {align-self: flex-start;width: 50%;}#sk-container-id-5 div.sk-parallel-item:only-child::after {width: 0;}#sk-container-id-5 div.sk-dashed-wrapped {border: 1px dashed gray;margin: 0 0.4em 0.5em 0.4em;box-sizing: border-box;padding-bottom: 0.4em;background-color: white;}#sk-container-id-5 div.sk-label label {font-family: monospace;font-weight: bold;display: inline-block;line-height: 1.2em;}#sk-container-id-5 div.sk-label-container {text-align: center;}#sk-container-id-5 div.sk-container {/* jupyter's `normalize.less` sets `[hidden] { display: none; }` but bootstrap.min.css set `[hidden] { display: none !important; }` so we also need the `!important` here to be able to override the default hidden behavior on the sphinx rendered scikit-learn.org. See: https://github.com/scikit-learn/scikit-learn/issues/21755 */display: inline-block !important;position: relative;}#sk-container-id-5 div.sk-text-repr-fallback {display: none;}</style><div id=\"sk-container-id-5\" class=\"sk-top-container\"><div class=\"sk-text-repr-fallback\"><pre>LinearRegression()</pre><b>In a Jupyter environment, please rerun this cell to show the HTML representation or trust the notebook. <br />On GitHub, the HTML representation is unable to render, please try loading this page with nbviewer.org.</b></div><div class=\"sk-container\" hidden><div class=\"sk-item\"><div class=\"sk-estimator sk-toggleable\"><input class=\"sk-toggleable__control sk-hidden--visually\" id=\"sk-estimator-id-5\" type=\"checkbox\" checked><label for=\"sk-estimator-id-5\" class=\"sk-toggleable__label sk-toggleable__label-arrow\">LinearRegression</label><div class=\"sk-toggleable__content\"><pre>LinearRegression()</pre></div></div></div></div></div>"
      ],
      "text/plain": [
       "LinearRegression()"
      ]
     },
     "execution_count": 62,
     "metadata": {},
     "output_type": "execute_result"
    }
   ],
   "source": [
    "reg.fit(x_train,y_train)"
   ]
  },
  {
   "cell_type": "code",
   "execution_count": 63,
   "id": "6cdbb758",
   "metadata": {},
   "outputs": [
    {
     "data": {
      "text/plain": [
       "0.994621801615789"
      ]
     },
     "execution_count": 63,
     "metadata": {},
     "output_type": "execute_result"
    }
   ],
   "source": [
    "reg.score(x_test,y_test)"
   ]
  },
  {
   "cell_type": "code",
   "execution_count": 64,
   "id": "a0f7d481",
   "metadata": {},
   "outputs": [
    {
     "data": {
      "text/plain": [
       "array([ 9.14116195e-07,  1.83073586e-03, -1.09254007e-03, -8.27719548e-03,\n",
       "       -8.22025228e-01,  3.35411737e-03,  6.79007333e-03, -6.08836904e-03,\n",
       "       -1.20076485e-02,  2.47196297e-02, -4.17538958e-03, -3.16869842e-01,\n",
       "        2.18193387e+00])"
      ]
     },
     "execution_count": 64,
     "metadata": {},
     "output_type": "execute_result"
    }
   ],
   "source": [
    "reg.coef_"
   ]
  },
  {
   "cell_type": "code",
   "execution_count": 65,
   "id": "3108c02a",
   "metadata": {},
   "outputs": [
    {
     "name": "stdout",
     "output_type": "stream",
     "text": [
      "predicted response:\n",
      "[ 6.91206727 18.3185558  28.90682309 ...  7.98456897 10.19086736\n",
      " 22.59491716]\n"
     ]
    }
   ],
   "source": [
    "y_pred = reg.predict(x_test)\n",
    "\n",
    "print('predicted response:', y_pred, sep='\\n')"
   ]
  },
  {
   "cell_type": "code",
   "execution_count": 66,
   "id": "ed40e751",
   "metadata": {},
   "outputs": [
    {
     "data": {
      "text/html": [
       "<div>\n",
       "<style scoped>\n",
       "    .dataframe tbody tr th:only-of-type {\n",
       "        vertical-align: middle;\n",
       "    }\n",
       "\n",
       "    .dataframe tbody tr th {\n",
       "        vertical-align: top;\n",
       "    }\n",
       "\n",
       "    .dataframe thead th {\n",
       "        text-align: right;\n",
       "    }\n",
       "</style>\n",
       "<table border=\"1\" class=\"dataframe\">\n",
       "  <thead>\n",
       "    <tr style=\"text-align: right;\">\n",
       "      <th></th>\n",
       "      <th>Actual</th>\n",
       "      <th>Predicted</th>\n",
       "      <th>Accuracy</th>\n",
       "    </tr>\n",
       "  </thead>\n",
       "  <tbody>\n",
       "    <tr>\n",
       "      <th>7273</th>\n",
       "      <td>7.2</td>\n",
       "      <td>6.912067</td>\n",
       "      <td>0.287933</td>\n",
       "    </tr>\n",
       "    <tr>\n",
       "      <th>1179</th>\n",
       "      <td>19.8</td>\n",
       "      <td>18.318556</td>\n",
       "      <td>1.481444</td>\n",
       "    </tr>\n",
       "    <tr>\n",
       "      <th>3617</th>\n",
       "      <td>27.6</td>\n",
       "      <td>28.906823</td>\n",
       "      <td>1.306823</td>\n",
       "    </tr>\n",
       "    <tr>\n",
       "      <th>8610</th>\n",
       "      <td>8.6</td>\n",
       "      <td>10.837075</td>\n",
       "      <td>2.237075</td>\n",
       "    </tr>\n",
       "    <tr>\n",
       "      <th>3560</th>\n",
       "      <td>21.9</td>\n",
       "      <td>19.888692</td>\n",
       "      <td>2.011308</td>\n",
       "    </tr>\n",
       "  </tbody>\n",
       "</table>\n",
       "</div>"
      ],
      "text/plain": [
       "      Actual  Predicted  Accuracy\n",
       "7273     7.2   6.912067  0.287933\n",
       "1179    19.8  18.318556  1.481444\n",
       "3617    27.6  28.906823  1.306823\n",
       "8610     8.6  10.837075  2.237075\n",
       "3560    21.9  19.888692  2.011308"
      ]
     },
     "execution_count": 66,
     "metadata": {},
     "output_type": "execute_result"
    }
   ],
   "source": [
    "df = pd.DataFrame({'Actual': y_test, 'Predicted': y_pred, 'Accuracy': abs(y_test-y_pred)})\n",
    "df.head()"
   ]
  },
  {
   "cell_type": "code",
   "execution_count": 67,
   "id": "fba07043",
   "metadata": {},
   "outputs": [
    {
     "name": "stdout",
     "output_type": "stream",
     "text": [
      "Точность:  2.4350965137166707\n"
     ]
    }
   ],
   "source": [
    "import numpy\n",
    "Acc = numpy.mean(abs(y_test-y_pred))\n",
    "print ('Точность: ', Acc)"
   ]
  },
  {
   "cell_type": "code",
   "execution_count": 68,
   "id": "ee4adb01",
   "metadata": {},
   "outputs": [
    {
     "name": "stdout",
     "output_type": "stream",
     "text": [
      "Сorrelation coefficient: 0.997\n",
      "Spearman correlation coefficient: 0.952\n"
     ]
    }
   ],
   "source": [
    "print('Сorrelation coefficient: %.3f' % df['Actual'].corr(df['Predicted'], method='pearson'))\n",
    "print('Spearman correlation coefficient: %.3f' % df['Actual'].corr(df['Predicted'], method='spearman'))"
   ]
  },
  {
   "cell_type": "code",
   "execution_count": 69,
   "id": "57603495",
   "metadata": {},
   "outputs": [],
   "source": [
    "#линейная регрессия, LASSO регуляризатор;\n",
    "\n",
    "from sklearn.linear_model import LassoCV\n",
    "\n",
    "reg = linear_model.LassoCV()\n"
   ]
  },
  {
   "cell_type": "code",
   "execution_count": 70,
   "id": "9b2ff5f6",
   "metadata": {},
   "outputs": [
    {
     "data": {
      "text/html": [
       "<style>#sk-container-id-6 {color: black;background-color: white;}#sk-container-id-6 pre{padding: 0;}#sk-container-id-6 div.sk-toggleable {background-color: white;}#sk-container-id-6 label.sk-toggleable__label {cursor: pointer;display: block;width: 100%;margin-bottom: 0;padding: 0.3em;box-sizing: border-box;text-align: center;}#sk-container-id-6 label.sk-toggleable__label-arrow:before {content: \"▸\";float: left;margin-right: 0.25em;color: #696969;}#sk-container-id-6 label.sk-toggleable__label-arrow:hover:before {color: black;}#sk-container-id-6 div.sk-estimator:hover label.sk-toggleable__label-arrow:before {color: black;}#sk-container-id-6 div.sk-toggleable__content {max-height: 0;max-width: 0;overflow: hidden;text-align: left;background-color: #f0f8ff;}#sk-container-id-6 div.sk-toggleable__content pre {margin: 0.2em;color: black;border-radius: 0.25em;background-color: #f0f8ff;}#sk-container-id-6 input.sk-toggleable__control:checked~div.sk-toggleable__content {max-height: 200px;max-width: 100%;overflow: auto;}#sk-container-id-6 input.sk-toggleable__control:checked~label.sk-toggleable__label-arrow:before {content: \"▾\";}#sk-container-id-6 div.sk-estimator input.sk-toggleable__control:checked~label.sk-toggleable__label {background-color: #d4ebff;}#sk-container-id-6 div.sk-label input.sk-toggleable__control:checked~label.sk-toggleable__label {background-color: #d4ebff;}#sk-container-id-6 input.sk-hidden--visually {border: 0;clip: rect(1px 1px 1px 1px);clip: rect(1px, 1px, 1px, 1px);height: 1px;margin: -1px;overflow: hidden;padding: 0;position: absolute;width: 1px;}#sk-container-id-6 div.sk-estimator {font-family: monospace;background-color: #f0f8ff;border: 1px dotted black;border-radius: 0.25em;box-sizing: border-box;margin-bottom: 0.5em;}#sk-container-id-6 div.sk-estimator:hover {background-color: #d4ebff;}#sk-container-id-6 div.sk-parallel-item::after {content: \"\";width: 100%;border-bottom: 1px solid gray;flex-grow: 1;}#sk-container-id-6 div.sk-label:hover label.sk-toggleable__label {background-color: #d4ebff;}#sk-container-id-6 div.sk-serial::before {content: \"\";position: absolute;border-left: 1px solid gray;box-sizing: border-box;top: 0;bottom: 0;left: 50%;z-index: 0;}#sk-container-id-6 div.sk-serial {display: flex;flex-direction: column;align-items: center;background-color: white;padding-right: 0.2em;padding-left: 0.2em;position: relative;}#sk-container-id-6 div.sk-item {position: relative;z-index: 1;}#sk-container-id-6 div.sk-parallel {display: flex;align-items: stretch;justify-content: center;background-color: white;position: relative;}#sk-container-id-6 div.sk-item::before, #sk-container-id-6 div.sk-parallel-item::before {content: \"\";position: absolute;border-left: 1px solid gray;box-sizing: border-box;top: 0;bottom: 0;left: 50%;z-index: -1;}#sk-container-id-6 div.sk-parallel-item {display: flex;flex-direction: column;z-index: 1;position: relative;background-color: white;}#sk-container-id-6 div.sk-parallel-item:first-child::after {align-self: flex-end;width: 50%;}#sk-container-id-6 div.sk-parallel-item:last-child::after {align-self: flex-start;width: 50%;}#sk-container-id-6 div.sk-parallel-item:only-child::after {width: 0;}#sk-container-id-6 div.sk-dashed-wrapped {border: 1px dashed gray;margin: 0 0.4em 0.5em 0.4em;box-sizing: border-box;padding-bottom: 0.4em;background-color: white;}#sk-container-id-6 div.sk-label label {font-family: monospace;font-weight: bold;display: inline-block;line-height: 1.2em;}#sk-container-id-6 div.sk-label-container {text-align: center;}#sk-container-id-6 div.sk-container {/* jupyter's `normalize.less` sets `[hidden] { display: none; }` but bootstrap.min.css set `[hidden] { display: none !important; }` so we also need the `!important` here to be able to override the default hidden behavior on the sphinx rendered scikit-learn.org. See: https://github.com/scikit-learn/scikit-learn/issues/21755 */display: inline-block !important;position: relative;}#sk-container-id-6 div.sk-text-repr-fallback {display: none;}</style><div id=\"sk-container-id-6\" class=\"sk-top-container\"><div class=\"sk-text-repr-fallback\"><pre>LassoCV()</pre><b>In a Jupyter environment, please rerun this cell to show the HTML representation or trust the notebook. <br />On GitHub, the HTML representation is unable to render, please try loading this page with nbviewer.org.</b></div><div class=\"sk-container\" hidden><div class=\"sk-item\"><div class=\"sk-estimator sk-toggleable\"><input class=\"sk-toggleable__control sk-hidden--visually\" id=\"sk-estimator-id-6\" type=\"checkbox\" checked><label for=\"sk-estimator-id-6\" class=\"sk-toggleable__label sk-toggleable__label-arrow\">LassoCV</label><div class=\"sk-toggleable__content\"><pre>LassoCV()</pre></div></div></div></div></div>"
      ],
      "text/plain": [
       "LassoCV()"
      ]
     },
     "execution_count": 70,
     "metadata": {},
     "output_type": "execute_result"
    }
   ],
   "source": [
    "reg.fit(x_train,y_train)"
   ]
  },
  {
   "cell_type": "code",
   "execution_count": 71,
   "id": "5b0be263",
   "metadata": {},
   "outputs": [
    {
     "data": {
      "text/plain": [
       "0.9859113890400745"
      ]
     },
     "execution_count": 71,
     "metadata": {},
     "output_type": "execute_result"
    }
   ],
   "source": [
    "reg.score(x_test,y_test)"
   ]
  },
  {
   "cell_type": "code",
   "execution_count": 72,
   "id": "8540125b",
   "metadata": {},
   "outputs": [
    {
     "data": {
      "text/plain": [
       "array([ 1.24578536e-05,  0.00000000e+00, -0.00000000e+00, -1.33189702e-02,\n",
       "        0.00000000e+00,  5.58573040e-03, -8.90583429e-03,  3.59600402e-03,\n",
       "        1.07164905e-02,  2.06700431e-02, -9.09457899e-03, -4.87642302e-02,\n",
       "        9.64821696e-01])"
      ]
     },
     "execution_count": 72,
     "metadata": {},
     "output_type": "execute_result"
    }
   ],
   "source": [
    "reg.coef_"
   ]
  },
  {
   "cell_type": "code",
   "execution_count": 73,
   "id": "e9d7894d",
   "metadata": {},
   "outputs": [
    {
     "name": "stdout",
     "output_type": "stream",
     "text": [
      "predicted response:\n",
      "[13.89031347 17.51764722 26.93871199 ...  8.0971974  17.57385777\n",
      " 22.48851352]\n"
     ]
    }
   ],
   "source": [
    "y_pred = reg.predict(x_test)\n",
    "\n",
    "print('predicted response:', y_pred, sep='\\n')"
   ]
  },
  {
   "cell_type": "code",
   "execution_count": 74,
   "id": "4b97fd93",
   "metadata": {},
   "outputs": [
    {
     "data": {
      "text/html": [
       "<div>\n",
       "<style scoped>\n",
       "    .dataframe tbody tr th:only-of-type {\n",
       "        vertical-align: middle;\n",
       "    }\n",
       "\n",
       "    .dataframe tbody tr th {\n",
       "        vertical-align: top;\n",
       "    }\n",
       "\n",
       "    .dataframe thead th {\n",
       "        text-align: right;\n",
       "    }\n",
       "</style>\n",
       "<table border=\"1\" class=\"dataframe\">\n",
       "  <thead>\n",
       "    <tr style=\"text-align: right;\">\n",
       "      <th></th>\n",
       "      <th>Actual</th>\n",
       "      <th>Predicted</th>\n",
       "      <th>Accuracy</th>\n",
       "    </tr>\n",
       "  </thead>\n",
       "  <tbody>\n",
       "    <tr>\n",
       "      <th>7273</th>\n",
       "      <td>7.2</td>\n",
       "      <td>13.890313</td>\n",
       "      <td>6.690313</td>\n",
       "    </tr>\n",
       "    <tr>\n",
       "      <th>1179</th>\n",
       "      <td>19.8</td>\n",
       "      <td>17.517647</td>\n",
       "      <td>2.282353</td>\n",
       "    </tr>\n",
       "    <tr>\n",
       "      <th>3617</th>\n",
       "      <td>27.6</td>\n",
       "      <td>26.938712</td>\n",
       "      <td>0.661288</td>\n",
       "    </tr>\n",
       "    <tr>\n",
       "      <th>8610</th>\n",
       "      <td>8.6</td>\n",
       "      <td>8.669026</td>\n",
       "      <td>0.069026</td>\n",
       "    </tr>\n",
       "    <tr>\n",
       "      <th>3560</th>\n",
       "      <td>21.9</td>\n",
       "      <td>21.229580</td>\n",
       "      <td>0.670420</td>\n",
       "    </tr>\n",
       "  </tbody>\n",
       "</table>\n",
       "</div>"
      ],
      "text/plain": [
       "      Actual  Predicted  Accuracy\n",
       "7273     7.2  13.890313  6.690313\n",
       "1179    19.8  17.517647  2.282353\n",
       "3617    27.6  26.938712  0.661288\n",
       "8610     8.6   8.669026  0.069026\n",
       "3560    21.9  21.229580  0.670420"
      ]
     },
     "execution_count": 74,
     "metadata": {},
     "output_type": "execute_result"
    }
   ],
   "source": [
    "df = pd.DataFrame({'Actual': y_test, 'Predicted': y_pred, 'Accuracy': abs(y_test-y_pred)})\n",
    "df.head()"
   ]
  },
  {
   "cell_type": "code",
   "execution_count": 75,
   "id": "64d8d48d",
   "metadata": {},
   "outputs": [
    {
     "name": "stdout",
     "output_type": "stream",
     "text": [
      "Точность:  3.8494840104174486\n"
     ]
    }
   ],
   "source": [
    "Acc = numpy.mean(abs(y_test-y_pred))\n",
    "print ('Точность: ', Acc)"
   ]
  },
  {
   "cell_type": "code",
   "execution_count": 76,
   "id": "dff64bca",
   "metadata": {},
   "outputs": [
    {
     "name": "stdout",
     "output_type": "stream",
     "text": [
      "Сorrelation coefficient: 0.993\n",
      "Spearman correlation coefficient: 0.859\n"
     ]
    }
   ],
   "source": [
    "print('Сorrelation coefficient: %.3f' % df['Actual'].corr(df['Predicted'], method='pearson'))\n",
    "print('Spearman correlation coefficient: %.3f' % df['Actual'].corr(df['Predicted'], method='spearman'))"
   ]
  }
 ],
 "metadata": {
  "kernelspec": {
   "display_name": "Python 3 (ipykernel)",
   "language": "python",
   "name": "python3"
  },
  "language_info": {
   "codemirror_mode": {
    "name": "ipython",
    "version": 3
   },
   "file_extension": ".py",
   "mimetype": "text/x-python",
   "name": "python",
   "nbconvert_exporter": "python",
   "pygments_lexer": "ipython3",
   "version": "3.9.10"
  }
 },
 "nbformat": 4,
 "nbformat_minor": 5
}
